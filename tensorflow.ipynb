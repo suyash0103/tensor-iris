{
 "cells": [
  {
   "cell_type": "code",
   "execution_count": 1,
   "metadata": {},
   "outputs": [
    {
     "name": "stdout",
     "output_type": "stream",
     "text": [
      "a: Tensor(\"pholdA:0\", dtype=float32)\n",
      "b: <tf.Variable 'varB:0' shape=() dtype=float32_ref>\n",
      "c: Tensor(\"consC:0\", shape=(4,), dtype=float32)\n"
     ]
    }
   ],
   "source": [
    "# understand tensors\n",
    "import tensorflow as tf\n",
    "\n",
    "tf.reset_default_graph()\n",
    "\n",
    "# Define a placeholder\n",
    "a = tf.placeholder(\"float\", name='pholdA')  \n",
    "print(\"a:\", a)\n",
    "\n",
    "# Define a variable \n",
    "b = tf.Variable(2.0, name='varB')  \n",
    "print(\"b:\", b)\n",
    "\n",
    "# Define a constant\n",
    "c = tf.constant([1., 2., 3., 4.], name='consC')  \n",
    "print(\"c:\", c)  "
   ]
  },
  {
   "cell_type": "code",
   "execution_count": null,
   "metadata": {},
   "outputs": [],
   "source": []
  }
 ],
 "metadata": {
  "kernelspec": {
   "display_name": "Python 3",
   "language": "python",
   "name": "python3"
  },
  "language_info": {
   "codemirror_mode": {
    "name": "ipython",
    "version": 3
   },
   "file_extension": ".py",
   "mimetype": "text/x-python",
   "name": "python",
   "nbconvert_exporter": "python",
   "pygments_lexer": "ipython3",
   "version": "3.6.3"
  }
 },
 "nbformat": 4,
 "nbformat_minor": 2
}
